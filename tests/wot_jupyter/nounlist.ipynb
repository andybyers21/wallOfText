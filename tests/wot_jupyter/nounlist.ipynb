{
 "cells": [
  {
   "cell_type": "code",
   "execution_count": 16,
   "metadata": {},
   "outputs": [],
   "source": [
    "def create_list(input_txt, output_txt):\n",
    "    file = open(input_txt, \"r\")\n",
    "\n",
    "    list = []\n",
    "\n",
    "    for line in file:\n",
    "        line = line.strip()\n",
    "        list.append(line)\n",
    "    \n",
    "    with open(output_txt, 'w') as output:\n",
    "        for row in list:\n",
    "            output.write(\"         '\" + str(row) + \"',\\n\")"
   ]
  },
  {
   "cell_type": "code",
   "execution_count": 17,
   "metadata": {},
   "outputs": [],
   "source": [
    "create_list(\"nounlist.txt\", \"test.py\")"
   ]
  },
  {
   "cell_type": "code",
   "execution_count": null,
   "metadata": {},
   "outputs": [],
   "source": []
  }
 ],
 "metadata": {
  "kernelspec": {
   "display_name": "Python 3",
   "language": "python",
   "name": "python3"
  },
  "language_info": {
   "codemirror_mode": {
    "name": "ipython",
    "version": 3
   },
   "file_extension": ".py",
   "mimetype": "text/x-python",
   "name": "python",
   "nbconvert_exporter": "python",
   "pygments_lexer": "ipython3",
   "version": "3.9.0"
  }
 },
 "nbformat": 4,
 "nbformat_minor": 4
}
