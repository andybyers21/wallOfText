{
 "cells": [
  {
   "cell_type": "code",
   "execution_count": 4,
   "metadata": {
    "scrolled": true
   },
   "outputs": [
    {
     "data": {
      "text/plain": [
       "['<li>In the, same way, that you have to italicize a few words?</li>',\n",
       " '<li>Within the body of the text to show emphasis!</li>',\n",
       " '<li>You also have to show which groups of text take more importance over the others.</li>',\n",
       " '<br><hr><br><li> this is done by using a scale of type sizes.</li>',\n",
       " '<li>Evidently, the title or main heading should be the biggest, followed by the subheading, with the body of the text appearing a little smaller than the previous.</li>',\n",
       " '<li>When you do this, not only does it make the entire text body look more organized, it also allows your readers to find exactly what they’re looking for and jump to the areas they need more than the others.</li>']"
      ]
     },
     "execution_count": 4,
     "metadata": {},
     "output_type": "execute_result"
    }
   ],
   "source": [
    "import re\n",
    "\n",
    "text = 'in the, same way, that you have to italicize a few words? within the body of the text to show emphasis! you also have to show which groups of text take more importance over the others. \\r\\n\\r\\n this is done by using a scale of type sizes. evidently, the title or main heading should be the biggest, followed by the subheading, with the body of the text appearing a little smaller than the previous. When you do this, not only does it make the entire text body look more organized, it also allows your readers to find exactly what they’re looking for and jump to the areas they need more than the others.'\n",
    "\n",
    "text = re.sub(\"\\r\\n\\r\\n\", \"<hr>\", text)\n",
    "text_list = re.findall('.*?[.!\\?]+', text)\n",
    "# TODO: also need to check for speach in text \"\"\n",
    "new_list = []\n",
    "\n",
    "for item in text_list:\n",
    "    new_string = item.lstrip()\n",
    "    new_string = new_string.capitalize()\n",
    "    new_string = \"<li>\" + new_string + \"</li>\"\n",
    "    new_string = re.sub('<li><hr>', '<br><hr><br><li>', new_string)\n",
    "    new_list.append(new_string)\n",
    "    \n",
    "new_list"
   ]
  },
  {
   "cell_type": "code",
   "execution_count": 6,
   "metadata": {},
   "outputs": [
    {
     "data": {
      "text/plain": [
       "'<li>In the, same way, that you have to italicize a few words?</li><li>Within the body of the text to show emphasis!</li><li>You also have to show which groups of text take more importance over the others.</li><br><hr><br><li> this is done by using a scale of type sizes.</li><li>Evidently, the title or main heading should be the biggest, followed by the subheading, with the body of the text appearing a little smaller than the previous.</li><li>When you do this, not only does it make the entire text body look more organized, it also allows your readers to find exactly what they’re looking for and jump to the areas they need more than the others.</li>'"
      ]
     },
     "execution_count": 6,
     "metadata": {},
     "output_type": "execute_result"
    }
   ],
   "source": [
    "str1 = \"\"  \n",
    "    \n",
    "for ele in new_list:  \n",
    "    str1 += ele   \n",
    "    \n",
    "str1 "
   ]
  },
  {
   "cell_type": "code",
   "execution_count": null,
   "metadata": {},
   "outputs": [],
   "source": []
  }
 ],
 "metadata": {
  "kernelspec": {
   "display_name": "Python 3",
   "language": "python",
   "name": "python3"
  },
  "language_info": {
   "codemirror_mode": {
    "name": "ipython",
    "version": 3
   },
   "file_extension": ".py",
   "mimetype": "text/x-python",
   "name": "python",
   "nbconvert_exporter": "python",
   "pygments_lexer": "ipython3",
   "version": "3.9.0"
  }
 },
 "nbformat": 4,
 "nbformat_minor": 4
}
