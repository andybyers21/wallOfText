{
 "cells": [
  {
   "cell_type": "code",
   "execution_count": 1,
   "metadata": {},
   "outputs": [],
   "source": [
    "# All words are made lower case\n",
    "# Need to find and format names with lower case"
   ]
  },
  {
   "cell_type": "code",
   "execution_count": 2,
   "metadata": {},
   "outputs": [],
   "source": [
    "import re\n",
    "\n",
    "input_text = \"This is a string. here are some lower case stuffs! Some Words With Capitals. More string required. New Line! What about a Question?\"\n",
    "\n",
    "def text_process(text):\n",
    "    text = re.sub(\"\\r\\n\\r\\n\", \"<hr>\", text)\n",
    "    text_list = re.findall('.*?[.!\\?]+', text)\n",
    "    # TODO: also need to check for speach in text \"\"\n",
    "    new_list = []\n",
    "    \n",
    "    for item in text_list:\n",
    "        new_string = item.lstrip()\n",
    "        new_string = new_string.capitalize()\n",
    "        new_string = \"<li>\" + new_string + \"</li>\"\n",
    "        new_string = re.sub('<li><hr>', '<hr><br><li>', new_string)\n",
    "        # FIXME: edge case, this does not capatalize first letter on new line\n",
    "        # due to additional <hr> tags at start of list item.:w\n",
    "        new_list.append(new_string)\n",
    "        \n",
    "    str1 = \"\"\n",
    "\n",
    "    for ele in new_list:\n",
    "        str1 += ele\n",
    "    \n",
    "    return str1"
   ]
  },
  {
   "cell_type": "code",
   "execution_count": 3,
   "metadata": {},
   "outputs": [
    {
     "data": {
      "text/plain": [
       "'<li>This is a string.</li><li>Here are some lower case stuffs!</li><li>Some words with capitals.</li><li>More string required.</li><li>New line!</li><li>What about a question?</li>'"
      ]
     },
     "execution_count": 3,
     "metadata": {},
     "output_type": "execute_result"
    }
   ],
   "source": [
    "text_process(input_text)"
   ]
  },
  {
   "cell_type": "code",
   "execution_count": null,
   "metadata": {},
   "outputs": [],
   "source": []
  }
 ],
 "metadata": {
  "kernelspec": {
   "display_name": "Python 3",
   "language": "python",
   "name": "python3"
  },
  "language_info": {
   "codemirror_mode": {
    "name": "ipython",
    "version": 3
   },
   "file_extension": ".py",
   "mimetype": "text/x-python",
   "name": "python",
   "nbconvert_exporter": "python",
   "pygments_lexer": "ipython3",
   "version": "3.9.0"
  }
 },
 "nbformat": 4,
 "nbformat_minor": 4
}
